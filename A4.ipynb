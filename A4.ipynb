{
 "cells": [
  {
   "cell_type": "code",
   "execution_count": 1,
   "id": "370ebb56-0530-4483-8472-770543ebcf68",
   "metadata": {},
   "outputs": [],
   "source": [
    "# Using geospatial Functions"
   ]
  },
  {
   "cell_type": "code",
   "execution_count": 2,
   "id": "e579c46a-660c-4739-a483-47c03749444f",
   "metadata": {},
   "outputs": [],
   "source": [
    "## Importing the Functions"
   ]
  },
  {
   "cell_type": "code",
   "execution_count": 4,
   "id": "b4e289f0-cbd6-4220-839c-ef1354a61302",
   "metadata": {},
   "outputs": [],
   "source": [
    "import math"
   ]
  },
  {
   "cell_type": "code",
   "execution_count": 5,
   "id": "90f69783-cdc5-46b8-a454-ab7098e7f194",
   "metadata": {},
   "outputs": [],
   "source": [
    "## Haversine distance"
   ]
  },
  {
   "cell_type": "code",
   "execution_count": 6,
   "id": "b8d91f65-743f-4055-a5db-f95d3d2d1139",
   "metadata": {},
   "outputs": [
    {
     "ename": "NameError",
     "evalue": "name 'haversine_distance' is not defined",
     "output_type": "error",
     "traceback": [
      "\u001b[1;31m---------------------------------------------------------------------------\u001b[0m",
      "\u001b[1;31mNameError\u001b[0m                                 Traceback (most recent call last)",
      "Cell \u001b[1;32mIn[6], line 7\u001b[0m\n\u001b[0;32m      4\u001b[0m \u001b[38;5;66;03m# Coordinate of Rome, Italy\u001b[39;00m\n\u001b[0;32m      5\u001b[0m lat2, lon2 \u001b[38;5;241m=\u001b[39m \u001b[38;5;241m41.8919300\u001b[39m, \u001b[38;5;241m12.5113300\u001b[39m\n\u001b[1;32m----> 7\u001b[0m distance \u001b[38;5;241m=\u001b[39m haversine_distance(lat1, lon1, lat2, lon2)\n\u001b[0;32m      8\u001b[0m \u001b[38;5;28mprint\u001b[39m(\u001b[38;5;124mf\u001b[39m\u001b[38;5;124m\"\u001b[39m\u001b[38;5;124mThe distance between Warsaw and Rome is approximately \u001b[39m\u001b[38;5;132;01m{\u001b[39;00mdistance\u001b[38;5;132;01m:\u001b[39;00m\u001b[38;5;124m.2f\u001b[39m\u001b[38;5;132;01m}\u001b[39;00m\u001b[38;5;124m kilometers.\u001b[39m\u001b[38;5;124m\"\u001b[39m)\n",
      "\u001b[1;31mNameError\u001b[0m: name 'haversine_distance' is not defined"
     ]
    }
   ],
   "source": [
    "# Coordinate of Warsaw, Poland\n",
    "lat1, lon1 = 52.2296756, 21.0122287\n",
    "\n",
    "# Coordinate of Rome, Italy\n",
    "lat2, lon2 = 41.8919300, 12.5113300\n",
    "\n",
    "distance = haversine_distance(lat1, lon1, lat2, lon2)\n",
    "print(f\"The distance between Warsaw and Rome is approximately {distance:.2f} kilometers.\")"
   ]
  },
  {
   "cell_type": "code",
   "execution_count": 7,
   "id": "fe79d55e-9988-4cdc-8dac-73a80f06fc5f",
   "metadata": {},
   "outputs": [],
   "source": [
    "## Geographic Midpoint"
   ]
  },
  {
   "cell_type": "code",
   "execution_count": 8,
   "id": "fe4ecd53-e473-47e7-93cc-57c74a3456eb",
   "metadata": {},
   "outputs": [
    {
     "ename": "NameError",
     "evalue": "name 'geographic_midpoint' is not defined",
     "output_type": "error",
     "traceback": [
      "\u001b[1;31m---------------------------------------------------------------------------\u001b[0m",
      "\u001b[1;31mNameError\u001b[0m                                 Traceback (most recent call last)",
      "Cell \u001b[1;32mIn[8], line 1\u001b[0m\n\u001b[1;32m----> 1\u001b[0m midpoint \u001b[38;5;241m=\u001b[39m geographic_midpoint(lat1, lon1, lat2, lon2)\n\u001b[0;32m      2\u001b[0m \u001b[38;5;28mprint\u001b[39m(\u001b[38;5;124mf\u001b[39m\u001b[38;5;124m\"\u001b[39m\u001b[38;5;124mThe geographic midpoint between Warsaw and Rome is approximately \u001b[39m\u001b[38;5;132;01m{\u001b[39;00mmidpoint\u001b[38;5;132;01m}\u001b[39;00m\u001b[38;5;124m.\u001b[39m\u001b[38;5;124m\"\u001b[39m)\n",
      "\u001b[1;31mNameError\u001b[0m: name 'geographic_midpoint' is not defined"
     ]
    }
   ],
   "source": [
    "midpoint = geographic_midpoint(lat1, lon1, lat2, lon2)\n",
    "print(f\"The geographic midpoint between Warsaw and Rome is approximately {midpoint}.\")"
   ]
  },
  {
   "cell_type": "code",
   "execution_count": 9,
   "id": "77bda58b-6546-4262-8499-efb47e1ee78f",
   "metadata": {},
   "outputs": [],
   "source": [
    "## Is Within Radius"
   ]
  },
  {
   "cell_type": "code",
   "execution_count": 10,
   "id": "61da4113-029a-4205-bfd7-29aa595f598f",
   "metadata": {},
   "outputs": [
    {
     "ename": "NameError",
     "evalue": "name 'is_within_radius' is not defined",
     "output_type": "error",
     "traceback": [
      "\u001b[1;31m---------------------------------------------------------------------------\u001b[0m",
      "\u001b[1;31mNameError\u001b[0m                                 Traceback (most recent call last)",
      "Cell \u001b[1;32mIn[10], line 2\u001b[0m\n\u001b[0;32m      1\u001b[0m \u001b[38;5;66;03m# Check if Rome is within 1500km of Warsaw\u001b[39;00m\n\u001b[1;32m----> 2\u001b[0m radius_check \u001b[38;5;241m=\u001b[39m is_within_radius(lat1, lon1, lat2,lon2, \u001b[38;5;241m1500\u001b[39m)\n\u001b[0;32m      3\u001b[0m \u001b[38;5;28mprint\u001b[39m(\u001b[38;5;124mf\u001b[39m\u001b[38;5;124m\"\u001b[39m\u001b[38;5;124mRome is within 1500km of Warsaw: \u001b[39m\u001b[38;5;132;01m{\u001b[39;00mradius_check\u001b[38;5;132;01m}\u001b[39;00m\u001b[38;5;124m\"\u001b[39m)\n",
      "\u001b[1;31mNameError\u001b[0m: name 'is_within_radius' is not defined"
     ]
    }
   ],
   "source": [
    "# Check if Rome is within 1500km of Warsaw\n",
    "radius_check = is_within_radius(lat1, lon1, lat2,lon2, 1500)\n",
    "print(f\"Rome is within 1500km of Warsaw: {radius_check}\")"
   ]
  },
  {
   "cell_type": "code",
   "execution_count": null,
   "id": "cfa40b3c-78ee-46b1-8095-4c16f4b7506f",
   "metadata": {},
   "outputs": [],
   "source": []
  }
 ],
 "metadata": {
  "kernelspec": {
   "display_name": "Python 3 (ipykernel)",
   "language": "python",
   "name": "python3"
  },
  "language_info": {
   "codemirror_mode": {
    "name": "ipython",
    "version": 3
   },
   "file_extension": ".py",
   "mimetype": "text/x-python",
   "name": "python",
   "nbconvert_exporter": "python",
   "pygments_lexer": "ipython3",
   "version": "3.11.7"
  }
 },
 "nbformat": 4,
 "nbformat_minor": 5
}
